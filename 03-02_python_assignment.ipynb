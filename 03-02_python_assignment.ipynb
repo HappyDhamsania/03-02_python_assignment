{
 "cells": [
  {
   "cell_type": "markdown",
   "id": "b9501603-fe81-4831-9c5c-cd064cc3cb5b",
   "metadata": {},
   "source": [
    "Q1. Which keyword is used to create a function? Create a function to return a list of odd numbers in the\n",
    "range of 1 to 25."
   ]
  },
  {
   "cell_type": "markdown",
   "id": "6e14d70a-c205-46dd-8c76-f015969fe4e8",
   "metadata": {},
   "source": [
    "The def keyword is used to create a function."
   ]
  },
  {
   "cell_type": "code",
   "execution_count": 4,
   "id": "12fcc41e-7392-47ac-957a-0f16fd3cb872",
   "metadata": {},
   "outputs": [],
   "source": [
    "def odd(n):\n",
    "    l=[]\n",
    "    for i in range(1,n+1):\n",
    "        if i%2 != 0:\n",
    "            l.append(i)\n",
    "    return l"
   ]
  },
  {
   "cell_type": "code",
   "execution_count": 5,
   "id": "4c3bcffa-de48-4f9f-b03a-4c95f75fc202",
   "metadata": {},
   "outputs": [
    {
     "data": {
      "text/plain": [
       "[1, 3, 5, 7, 9, 11, 13, 15, 17, 19, 21, 23, 25]"
      ]
     },
     "execution_count": 5,
     "metadata": {},
     "output_type": "execute_result"
    }
   ],
   "source": [
    "odd(25)"
   ]
  },
  {
   "cell_type": "markdown",
   "id": "502ea48e-4892-4b87-aa46-ecf92a249873",
   "metadata": {},
   "source": [
    "Q2. Why *args and **kwargs is used in some functions? Create a function each for *args and **kwargs\n",
    "to demonstrate their use."
   ]
  },
  {
   "cell_type": "code",
   "execution_count": 21,
   "id": "9401d03d-912e-4335-b2aa-ed8b8b7895f5",
   "metadata": {},
   "outputs": [],
   "source": [
    "# *args is used to pass a non-key worded, variable-length argument list.\n",
    "# **kwargs is used to pass a keyworded, variable-length argument list in dictionary's key and value pair form.\n",
    "\n",
    "def funarg(*args):\n",
    "    return args\n",
    "\n",
    "def funkwargs(**kwargs):\n",
    "    return kwargs"
   ]
  },
  {
   "cell_type": "code",
   "execution_count": 22,
   "id": "7638966e-fda6-4e11-aad2-00c3e3f19a6d",
   "metadata": {},
   "outputs": [
    {
     "data": {
      "text/plain": [
       "(1, 2, 3, 4, 5, 'happy', 'sudhanshu', [3, 5, 64])"
      ]
     },
     "execution_count": 22,
     "metadata": {},
     "output_type": "execute_result"
    }
   ],
   "source": [
    "funarg(1,2,3,4,5,'happy','sudhanshu',[3,5,64])"
   ]
  },
  {
   "cell_type": "code",
   "execution_count": 27,
   "id": "5b16ed74-61df-48b5-999e-98111da753c7",
   "metadata": {},
   "outputs": [
    {
     "data": {
      "text/plain": [
       "{'name': 'happy',\n",
       " 'course': 'data science',\n",
       " 'sub': ['python', 'statistics', 'sql']}"
      ]
     },
     "execution_count": 27,
     "metadata": {},
     "output_type": "execute_result"
    }
   ],
   "source": [
    "funkwargs(name='happy',course='data science',sub=['python','statistics','sql'])"
   ]
  },
  {
   "cell_type": "markdown",
   "id": "c1c1f087-f6af-4e52-b887-7dab0859d57d",
   "metadata": {},
   "source": [
    "Q3. What is an iterator in python? Name the method used to initialise the iterator object and the method\n",
    "used for iteration. Use these methods to print the first five elements of the given list [2, 4, 6, 8, 10, 12, 14,\n",
    "16, 18, 20]."
   ]
  },
  {
   "cell_type": "code",
   "execution_count": 3,
   "id": "b5327a0c-824e-4bb4-b88c-a434553bf347",
   "metadata": {},
   "outputs": [],
   "source": [
    "# An iterator is an object that can be iterated upon, meaning that you can traverse through all the values.\n",
    "# __iter__() and __next__() methods are used to implement iterator in python."
   ]
  },
  {
   "cell_type": "code",
   "execution_count": 4,
   "id": "f1a5d10a-b695-4b0d-a52d-77807a4ed965",
   "metadata": {},
   "outputs": [
    {
     "name": "stdout",
     "output_type": "stream",
     "text": [
      "2\n",
      "4\n",
      "6\n",
      "8\n",
      "10\n"
     ]
    }
   ],
   "source": [
    "l = [2,4,6,8,10,12,14,16,18,20]\n",
    "it = iter(l)\n",
    "for i in range(5):\n",
    "    print (next(it))"
   ]
  },
  {
   "cell_type": "markdown",
   "id": "05291011-aec8-435c-b3a0-600111f549cf",
   "metadata": {},
   "source": [
    "Q4. What is a generator function in python? Why yield keyword is used? Give an example of a generator\n",
    "function."
   ]
  },
  {
   "cell_type": "code",
   "execution_count": 1,
   "id": "f22a44cd-b5af-407a-9524-a67be339e3df",
   "metadata": {},
   "outputs": [],
   "source": [
    "# A generator-function is defined like a normal function, but whenever it needs to generate a value, it does so with the yield keyword rather than return. If the body of a def contains yield, the function automatically becomes a generator function."
   ]
  },
  {
   "cell_type": "code",
   "execution_count": 2,
   "id": "b9200259-7b07-4344-b92b-87678c5af187",
   "metadata": {},
   "outputs": [],
   "source": [
    "def gen(a):\n",
    "    for i in range(a):\n",
    "        yield i"
   ]
  },
  {
   "cell_type": "code",
   "execution_count": 4,
   "id": "e2d19b5a-39f8-4dd8-921b-f0ec611579b6",
   "metadata": {},
   "outputs": [
    {
     "data": {
      "text/plain": [
       "[0, 1, 2, 3, 4]"
      ]
     },
     "execution_count": 4,
     "metadata": {},
     "output_type": "execute_result"
    }
   ],
   "source": [
    "list(gen(5))"
   ]
  },
  {
   "cell_type": "markdown",
   "id": "ff22eb74-e069-4e91-ae40-af910ac82b08",
   "metadata": {},
   "source": [
    "Q5. Create a generator function for prime numbers less than 1000. Use the next() method to print the\n",
    "first 20 prime numbers."
   ]
  },
  {
   "cell_type": "code",
   "execution_count": 2,
   "id": "983347d8-bd5f-4c7c-8695-63b261d5f1d9",
   "metadata": {},
   "outputs": [
    {
     "name": "stdout",
     "output_type": "stream",
     "text": [
      "2\n",
      "3\n",
      "5\n",
      "7\n",
      "11\n",
      "13\n",
      "17\n",
      "19\n",
      "23\n",
      "29\n",
      "31\n",
      "37\n",
      "41\n",
      "43\n",
      "47\n",
      "53\n",
      "59\n",
      "61\n",
      "67\n",
      "71\n"
     ]
    }
   ],
   "source": [
    "def prime_number(n):\n",
    "    i=2\n",
    "    while i<n:\n",
    "        count=0\n",
    "        j=1\n",
    "        while (j<(int(i/2)+1)):\n",
    "            if(i%j == 0):\n",
    "                count+=1\n",
    "            j+=1\n",
    "        if(count<2):\n",
    "            yield i\n",
    "        i+=1\n",
    "        \n",
    "primes=prime_number(1000)\n",
    "\n",
    "for i in range(20):\n",
    "    print(next(primes))"
   ]
  },
  {
   "cell_type": "markdown",
   "id": "8dd168fe-ed4e-445b-aa8f-6967ae895792",
   "metadata": {},
   "source": [
    "Q6. Write a python program to print the first 10 Fibonacci numbers using a while loop."
   ]
  },
  {
   "cell_type": "code",
   "execution_count": 5,
   "id": "cf05bf36-9987-45c5-b3e9-bc762d457ced",
   "metadata": {},
   "outputs": [
    {
     "name": "stdin",
     "output_type": "stream",
     "text": [
      "enter the number of element 10\n"
     ]
    },
    {
     "name": "stdout",
     "output_type": "stream",
     "text": [
      "0\n",
      "1\n",
      "1\n",
      "2\n",
      "3\n",
      "5\n",
      "8\n",
      "13\n",
      "21\n",
      "34\n",
      "55\n"
     ]
    }
   ],
   "source": [
    "number = int(input('enter the number of element'))\n",
    "a=0\n",
    "b=1\n",
    "counter=0\n",
    "while counter <= number:\n",
    "    print(a)\n",
    "    c=a+b\n",
    "    a=b\n",
    "    b=c\n",
    "    counter += 1"
   ]
  },
  {
   "cell_type": "markdown",
   "id": "f5a673d8-7da5-4677-b4f6-9a14f8cebfb7",
   "metadata": {},
   "source": [
    "Q7. Write a List Comprehension to iterate through the given string: ‘pwskills’.\n",
    "Expected output: ['p', 'w', 's', 'k', 'i', 'l', 'l', 's']"
   ]
  },
  {
   "cell_type": "code",
   "execution_count": 6,
   "id": "9a624a8e-c3e4-4dfc-ab5d-376e0962c2a7",
   "metadata": {},
   "outputs": [
    {
     "data": {
      "text/plain": [
       "['p', 'w', 's', 'k', 'i', 'l', 'l', 's']"
      ]
     },
     "execution_count": 6,
     "metadata": {},
     "output_type": "execute_result"
    }
   ],
   "source": [
    "s='pwskills'\n",
    "[i for i in s]"
   ]
  },
  {
   "cell_type": "markdown",
   "id": "6f56896b-f66e-4c79-b662-76229b05f001",
   "metadata": {},
   "source": [
    "Q8. Write a python program to check whether a given number is Palindrome or not using a while loop."
   ]
  },
  {
   "cell_type": "code",
   "execution_count": 1,
   "id": "9fd143c6-b5e0-4ccb-aef7-2d5585dc92ff",
   "metadata": {},
   "outputs": [],
   "source": [
    "def is_palindrome(n):\n",
    "    return str(n) == str(n)[::-1]"
   ]
  },
  {
   "cell_type": "code",
   "execution_count": 2,
   "id": "e08bb5d6-b352-406a-8f97-58fbe67c6231",
   "metadata": {},
   "outputs": [
    {
     "name": "stdin",
     "output_type": "stream",
     "text": [
      "enter a number: 14341\n"
     ]
    },
    {
     "name": "stdout",
     "output_type": "stream",
     "text": [
      "The number is palindrome\n"
     ]
    }
   ],
   "source": [
    "n = int(input('enter a number:'))\n",
    "if is_palindrome(n):\n",
    "    print('The number is palindrome')\n",
    "else:\n",
    "    print('The number is not palindrome')"
   ]
  },
  {
   "cell_type": "markdown",
   "id": "2c291443-f760-49fa-ac14-4f69a5db5d19",
   "metadata": {},
   "source": [
    "Q9. Write a code to print odd numbers from 1 to 100 using list comprehension.\n",
    "Note: Use a list comprehension to create a list from 1 to 100 and use another List comprehension to filter\n",
    "out odd numbers."
   ]
  },
  {
   "cell_type": "code",
   "execution_count": 45,
   "id": "ad806b83-600d-4a80-82a7-5bcc704d858d",
   "metadata": {},
   "outputs": [],
   "source": [
    "l=[i for i in range(100)]"
   ]
  },
  {
   "cell_type": "code",
   "execution_count": 46,
   "id": "d298b762-99fb-4de4-8ec9-7a8a2f3a7987",
   "metadata": {},
   "outputs": [
    {
     "data": {
      "text/plain": [
       "[1,\n",
       " 3,\n",
       " 5,\n",
       " 7,\n",
       " 9,\n",
       " 11,\n",
       " 13,\n",
       " 15,\n",
       " 17,\n",
       " 19,\n",
       " 21,\n",
       " 23,\n",
       " 25,\n",
       " 27,\n",
       " 29,\n",
       " 31,\n",
       " 33,\n",
       " 35,\n",
       " 37,\n",
       " 39,\n",
       " 41,\n",
       " 43,\n",
       " 45,\n",
       " 47,\n",
       " 49,\n",
       " 51,\n",
       " 53,\n",
       " 55,\n",
       " 57,\n",
       " 59,\n",
       " 61,\n",
       " 63,\n",
       " 65,\n",
       " 67,\n",
       " 69,\n",
       " 71,\n",
       " 73,\n",
       " 75,\n",
       " 77,\n",
       " 79,\n",
       " 81,\n",
       " 83,\n",
       " 85,\n",
       " 87,\n",
       " 89,\n",
       " 91,\n",
       " 93,\n",
       " 95,\n",
       " 97,\n",
       " 99]"
      ]
     },
     "execution_count": 46,
     "metadata": {},
     "output_type": "execute_result"
    }
   ],
   "source": [
    "[i for i in l if i%2 != 0]"
   ]
  }
 ],
 "metadata": {
  "kernelspec": {
   "display_name": "Python 3 (ipykernel)",
   "language": "python",
   "name": "python3"
  },
  "language_info": {
   "codemirror_mode": {
    "name": "ipython",
    "version": 3
   },
   "file_extension": ".py",
   "mimetype": "text/x-python",
   "name": "python",
   "nbconvert_exporter": "python",
   "pygments_lexer": "ipython3",
   "version": "3.10.8"
  }
 },
 "nbformat": 4,
 "nbformat_minor": 5
}
